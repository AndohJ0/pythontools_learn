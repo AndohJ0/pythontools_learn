{
 "cells": [
  {
   "cell_type": "raw",
   "id": "65aef1e3-2bdd-410f-a7b3-61d27cbdeb2b",
   "metadata": {},
   "source": [
    "New"
   ]
  },
  {
   "cell_type": "code",
   "execution_count": 4,
   "id": "101edf07-9a08-482c-baed-c210e9555478",
   "metadata": {},
   "outputs": [],
   "source": [
    "import numpy as np"
   ]
  },
  {
   "cell_type": "code",
   "execution_count": 1,
   "id": "c5313efc-24a1-4e31-abe4-0c5f130c323f",
   "metadata": {},
   "outputs": [],
   "source": [
    "b = 5\n",
    "c = 3"
   ]
  },
  {
   "cell_type": "code",
   "execution_count": 2,
   "id": "c05020a0-e06e-4b32-ae39-0917324fedd0",
   "metadata": {},
   "outputs": [],
   "source": [
    "a = b + c"
   ]
  },
  {
   "cell_type": "markdown",
   "id": "64095310-74e0-495e-9142-cade999ffcaa",
   "metadata": {
    "tags": []
   },
   "source": [
    "# Main Title\n",
    "\n",
    "## Subtitle\n",
    "\n",
    "This is my **bold text**\n",
    "\n",
    "- apples\n",
    "- oranges\n",
    "\n",
    "1. first\n",
    "2. oranges\n",
    "\n",
    "This is my [link](https://docs.google.com/presentation/d/1VYgZNp6Ty1pA_nVPbBj1O78s5Z3cB90aXnfaQ3D7koE/edit#slide=id.g24e559341d7_0_491)\n",
    "\n",
    "This is a correct sentence niw "
   ]
  },
  {
   "cell_type": "code",
   "execution_count": 5,
   "id": "440e8880-d8d8-426f-8746-859abe9ec8e0",
   "metadata": {},
   "outputs": [
    {
     "data": {
      "text/plain": [
       "'/Users/ja22x644/Desktop'"
      ]
     },
     "execution_count": 5,
     "metadata": {},
     "output_type": "execute_result"
    }
   ],
   "source": [
    "pwd"
   ]
  },
  {
   "cell_type": "code",
   "execution_count": 8,
   "id": "fb441b36-155e-4632-bd5e-f4c6423af27b",
   "metadata": {},
   "outputs": [
    {
     "name": "stdout",
     "output_type": "stream",
     "text": [
      "Collecting package metadata (current_repodata.json): done\n",
      "Solving environment: done\n",
      "\n",
      "\n",
      "==> WARNING: A newer version of conda exists. <==\n",
      "  current version: 22.9.0\n",
      "  latest version: 23.5.0\n",
      "\n",
      "Please update conda by running\n",
      "\n",
      "    $ conda update -n base -c defaults conda\n",
      "\n",
      "\n",
      "\n",
      "## Package Plan ##\n",
      "\n",
      "  environment location: /Users/ja22x644/opt/anaconda3/envs/my_ymlenv\n",
      "\n",
      "  added / updated specs:\n",
      "    - jupyterlab-spellchecker\n",
      "\n",
      "\n",
      "The following packages will be downloaded:\n",
      "\n",
      "    package                    |            build\n",
      "    ---------------------------|-----------------\n",
      "    ipython_genutils-0.2.0     |             py_1          21 KB  conda-forge\n",
      "    jupyterlab-3.5.3           |     pyhd8ed1ab_0         5.6 MB  conda-forge\n",
      "    jupyterlab-spellchecker-0.7.3|     pyhd8ed1ab_0         1.9 MB  conda-forge\n",
      "    nbclassic-1.0.0            |     pyh8b2e9e2_0         5.4 MB  conda-forge\n",
      "    notebook-6.5.4             |     pyha770c72_0         299 KB  conda-forge\n",
      "    ------------------------------------------------------------\n",
      "                                           Total:        13.2 MB\n",
      "\n",
      "The following NEW packages will be INSTALLED:\n",
      "\n",
      "  ipython_genutils   conda-forge/noarch::ipython_genutils-0.2.0-py_1 None\n",
      "  jupyterlab-spellc~ conda-forge/noarch::jupyterlab-spellchecker-0.7.3-pyhd8ed1ab_0 None\n",
      "  nbclassic          conda-forge/noarch::nbclassic-1.0.0-pyh8b2e9e2_0 None\n",
      "  notebook           conda-forge/noarch::notebook-6.5.4-pyha770c72_0 None\n",
      "\n",
      "The following packages will be DOWNGRADED:\n",
      "\n",
      "  jupyterlab                             4.0.1-pyhd8ed1ab_0 --> 3.5.3-pyhd8ed1ab_0 None\n",
      "\n",
      "\n",
      "\n",
      "Downloading and Extracting Packages\n",
      "ipython_genutils-0.2 | 21 KB     | ##################################### | 100% \n",
      "jupyterlab-spellchec | 1.9 MB    | ##################################### | 100% \n",
      "notebook-6.5.4       | 299 KB    | ##################################### | 100% \n",
      "jupyterlab-3.5.3     | 5.6 MB    | ##################################### | 100% \n",
      "nbclassic-1.0.0      | 5.4 MB    | ##################################### | 100% \n",
      "Preparing transaction: done\n",
      "Verifying transaction: done\n",
      "Executing transaction: done\n",
      "Retrieving notices: ...working... done\n",
      "\n",
      "Note: you may need to restart the kernel to use updated packages.\n"
     ]
    }
   ],
   "source": [
    "conda install -c conda-forge jupyterlab-spellchecker -y"
   ]
  },
  {
   "cell_type": "code",
   "execution_count": 1,
   "id": "739420a7-f2ef-4058-acbc-5353a96134ba",
   "metadata": {},
   "outputs": [],
   "source": [
    "import numpy as np"
   ]
  },
  {
   "cell_type": "code",
   "execution_count": 2,
   "id": "d44234e0-89fe-435f-8011-212b83b6d691",
   "metadata": {
    "tags": []
   },
   "outputs": [
    {
     "data": {
      "text/plain": [
       "3.0305450047664095"
      ]
     },
     "execution_count": 2,
     "metadata": {},
     "output_type": "execute_result"
    }
   ],
   "source": [
    "np.random.normal(2,3)\n"
   ]
  },
  {
   "cell_type": "code",
   "execution_count": null,
   "id": "3c81c70b-2e84-4925-8521-0893d5c7875e",
   "metadata": {},
   "outputs": [],
   "source": []
  }
 ],
 "metadata": {
  "kernelspec": {
   "display_name": "Python 3 (ipykernel)",
   "language": "python",
   "name": "python3"
  },
  "language_info": {
   "codemirror_mode": {
    "name": "ipython",
    "version": 3
   },
   "file_extension": ".py",
   "mimetype": "text/x-python",
   "name": "python",
   "nbconvert_exporter": "python",
   "pygments_lexer": "ipython3",
   "version": "3.9.16"
  }
 },
 "nbformat": 4,
 "nbformat_minor": 5
}
